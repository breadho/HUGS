{
 "cells": [
  {
   "cell_type": "markdown",
   "id": "1744d747-d1dc-42ef-ae84-641f29564b6d",
   "metadata": {},
   "source": [
    "# HUGS\n",
    "\n",
    "HST UV Globular Cluster Survey\n",
    "\n",
    "\n",
    "> 참고자료 \n",
    ">    - https://github.com/laingmic005/aperture-photometry/blob/main/L1_fits-handling.ipynb\n",
    ">    - https://youtu.be/_DzSIeruotQ?si=ScAl1J5rSqyIt_ap\n",
    ">    - https://archive.stsci.edu/prepds/hugs/\n",
    ">    - https://archive.stsci.edu/proposal_search.php?id=13297&mission=hst\n",
    ">    - https://archive.stsci.edu/proposal_search.php?id=10775&mission=hst"
   ]
  },
  {
   "cell_type": "markdown",
   "id": "23884ff0-2402-4481-af14-e30d293ba09d",
   "metadata": {},
   "source": [
    "**소개**\n",
    "\n",
    "대형 레거시 재무부 프로그램 \"The HST Legacy Survey of Galactic Globular Clusters: Shedding UV Light on Their Populations and Formation\"(GO-13297, PI: G. Piotto, 131 궤도)는 자외선/청색 WFC3/UVIS 필터 F275W, F336W 및 F438W를 통해 대규모 샘플의 성단을 이미지화하여 \"은하 구상성단의 ACS 조사\"(GO-10775, PI: A. Sarajedini, 134 궤도)의 기존 F606W 및 F814W 데이터베이스의 보완을 위한 UV 이니셔티브 제안서입니다. 이 세 가지 필터는 C, N, O 농도 변화에 민감하기 때문에 구상성단의 여러 집단을 분리하고 특성을 파악할 수 있습니다. 이러한 자외선/청색 필터와 광학 필터를 함께 사용하면 각 집단의 헬륨 함량을 측정할 수 있습니다.\n",
    "\n",
    "최종 데이터베이스에는 GO-13297 (PI: Piotto)과 두 개의 파일럿 프로젝트인 GO-12311 (PI: Piotto) 및 GO-12605 (PI: Piotto) 동안 관측된 56개의 구상성단과 1개의 개방성단의 카탈로그와 천체 관측 스택 이미지가 포함되어 있습니다. 각 클러스터에 대해 채택된 광도 측정 방법마다 하나씩 3개의 카탈로그를 공개합니다. 카탈로그에는 성단 필드에서 발견된 각 별의 위치와 5개 대역(F275W, F336W, F438W, F606W, F814W)의 광도 측정에 대한 정보가 포함되어 있습니다. 카탈로그에는 구성원 확률도 포함되어 있습니다. HUGS 데이터 제품 전체 컬렉션은 DOI http://dx.doi.org/10.17909/T9810F 에서 참조할 수 있습니다.\n",
    "\n",
    "**데이터 액세스**\n",
    "\n",
    "아래 표의 필터 열에 있는 다양한 노출 시간에 대해 스택 FITS 이미지를 사용할 수 있습니다. 세 가지 방법 각각에 대한 카탈로그 파일과 색상 크기 다이어그램 및 RGB 색상 이미지도 표에서 확인할 수 있습니다(RGB 이미지는 크기가 커서 브라우저에 완전히 표시되는 데 시간이 오래 걸릴 수 있습니다). 마지막으로, 마지막 열에는 특정 클러스터의 모든 파일을 다운로드하려는 사용자를 위해 특정 클러스터에 대한 모든 데이터 제품이 포함된 .tar.gz 파일이 포함되어 있습니다. 참고: 팀 홈페이지( http://groups.dfa.unipd.it/ESPG/treasury.php)에서도 동일한 데이터를 검색할 수 있습니다."
   ]
  },
  {
   "attachments": {},
   "cell_type": "markdown",
   "id": "b30a58e3-39f3-4251-ac41-46c1bf612d34",
   "metadata": {},
   "source": [
    "**`대상 천체`**\n",
    "\n",
    "Cluster\t  |       RA  |        Dec. |\n",
    ":----------|-----------:|-------------:|\n",
    "NGC 0104|\t6.023792 |\t-72.081306|\n",
    "NGC 0288|\t13.188500|\t-26.582611|\n",
    "NGC 0362|\t15.809417|\t-70.848778|\n",
    "NGC 1261|\t48.067542|\t-55.216222|\n",
    "NGC 1851|\t78.528167|\t-40.046556|\n",
    "NGC 2298|\t102.247542|\t-36.005306|\n",
    "NGC 2808|\t138.012917|\t-64.863500|\n",
    "NGC 3201|\t154.403417|\t-46.412472|\n",
    "NGC 4590|\t189.866583|\t-26.744056|\n",
    "NGC 4833|\t194.891333|\t-70.876500|\n",
    "NGC 5024|\t198.230208|\t18.168167|\n",
    "NGC 5053|\t199.112875|\t17.700250|\n",
    "NGC 5272|\t205.548417|\t28.377278|\n",
    "NGC 5286|\t206.611708|\t-51.374250|\n",
    "NGC 5466|\t211.363708|\t28.534444|\n",
    "NGC 5897|\t229.351667|\t-21.010111|\n",
    "NGC 5904|\t229.638417|\t2.081028|\n",
    "NGC 5927|\t232.002875|\t-50.673028|\n",
    "NGC 5986|\t236.512500|\t-37.786417|\n",
    "NGC 6093|\t244.260042|\t-22.976083|\n",
    "NGC 6101|\t246.450500|\t-72.202194|\n",
    "NGC 6121|\t245.896750|\t-26.525750|\n",
    "NGC 6144|\t246.807750|\t-26.023500|\n",
    "NGC 6171|\t248.132750|\t-13.053778|\n",
    "NGC 6205|\t250.421833|\t36.459861|\n",
    "NGC 6218|\t251.809083|\t-1.948528|\n",
    "NGC 6254|\t254.287708|\t-4.100306|\n",
    "NGC 6304|\t258.634375|\t-29.462028|\n",
    "NGC 6341|\t259.280792|\t43.135944|\n",
    "NGC 6352|\t261.371292|\t-48.422167|\n",
    "NGC 6362|\t262.979125|\t-67.048333|\n",
    "NGC 6366|\t261.934333|\t-5.079861|\n",
    "NGC 6388|\t264.071792|\t-44.735500|\n",
    "NGC 6397|\t265.175375|\t-53.674333|\n",
    "NGC 6441|\t267.554417|\t-37.051444|\n",
    "NGC 6496|\t269.765333|\t-44.265944|\n",
    "NGC 6535|\t270.960458|\t-0.297639|\n",
    "NGC 6541|\t272.009833|\t-43.714889|\n",
    "NGC 6584|\t274.656667|\t-52.215778|\n",
    "NGC 6624|\t275.918792|\t-30.361028|\n",
    "NGC 6637|\t277.846250|\t-32.348083|\n",
    "NGC 6652|\t278.940125|\t-32.990722|\n",
    "NGC 6656|\t279.099750|\t-23.904750|\n",
    "NGC 6681|\t280.803167|\t-32.292111|\n",
    "NGC 6715|\t283.763875|\t-30.479861|\n",
    "NGC 6717|\t283.775167|\t-22.701472|\n",
    "NGC 6723|\t284.888125|\t-36.632250|\n",
    "NGC 6752|\t287.717125|\t-59.984556|\n",
    "NGC 6779|\t289.148208|\t30.183472|\n",
    "NGC 6791|\t290.220833|\t37.771667|\n",
    "NGC 6809|\t294.998792|\t-30.964750|\n",
    "NGC 6838|\t298.443708|\t18.779194|\n",
    "NGC 6934|\t308.547375|\t7.404472|\n",
    "NGC 6981|\t313.365417|\t-12.537306|\n",
    "NGC 7078|\t322.493042|\t12.167000|\n",
    "NGC 7089|\t323.362583|\t-0.823250|\n",
    "NGC 7099|\t325.092167|\t-23.179861|"
   ]
  },
  {
   "cell_type": "markdown",
   "id": "a7c5a8c0-218b-4846-8270-da7af54bd70d",
   "metadata": {},
   "source": [
    "**HUGS** 에 사용된 필터 종류\n",
    "\n",
    "F275W, F336W, F435W, F438W, F606W, F814W\n",
    "\n",
    "**`필터 종류 설명`**\n",
    "\n",
    "> **HUGS에 사용된 허블 우주망원경 필터**\n",
    "> - F275W: 0.275 마이크로미터 파장 사용 보라색으로 표시 (UV)\n",
    "> - F336W: 0.435 마이크로미터 파장 사용 파란색으로 표시 (blue WFC3)\n",
    "> - F438W: 0.438 마이크로미터 파장 사용 (UVIS)\n",
    "> - F606W: 0.606 마이크로미터 파장 사용 (가시광 영역, V band)\n",
    "> - F814W: 0.814 마이크로미터 파장 사용 (적외선 근접 영역)\n",
    "\n",
    "> 각 필터는 고유한 중심 파장과 통과하는 빛의 범위를 가지며, 다양한 천체 및 천체 현상을 연구하는 데 사용됩니다.\n",
    "\n",
    "> F275W 필터 (UV)\n",
    "> \n",
    "> 이 필터는 약 275nm의 중심 파장을 가지며, 주로 자외선(UV) 영역의 빛을 측정합니다. 별의 핫 스팟, 활동성 은하 핵, 또는 영역 내에서의 별 생성과 같은 고에너지 현상을 연구하는 데 유용합니다. 천체의 활발한 별 생성 영역이나 강력한 자외선을 방출하는 젊은 별들을 관찰하는 데 특히 유용합니다.\n",
    "\n",
    "> F336W 필터 (U)\n",
    "> \n",
    "> 중심 파장이 약 336nm인 이 필터는 가시광선에 가까운 자외선 영역의 빛을 포착합니다. 'U' 밴드 필터로 알려져 있으며, 별의 온도, 금속성, 그리고 별간 먼지의 효과 등을 연구하는 데 사용됩니다. 주로 별의 화학적 조성과 구조를 연구하는 데 중요한 도구로 활용됩니다.\n",
    "\n",
    "> F438W 필터 (B)\n",
    "> \n",
    "> 이 필터는 약 438nm의 중심 파장을 가지며, 'B' 밴드에 해당하는 파란색 빛을 관찰합니다. 주로 별의 온도와 진화 단계를 연구하며, 별의 밝기와 색상을 측정하는 데 사용됩니다. 은하의 구조와 별들의 분포를 이해하는 데도 중요한 역할을 합니다.\n",
    "\n",
    "> F606W 필터(V)\n",
    ">\n",
    "> - 중심 파장과 범위: F606W 필터는 약 606nm의 중심 파장에서 빛을 통과시킵니다. 이는 가시광선 스펙트럼 중 녹색에서 빨간색 사이의 범위에 해당합니다.\n",
    "> - 주요 사용 목적: 이 필터는 주로 별과 은하의 색상과 밝기를 측정하는 데 사용됩니다. 천문학자들은 이 데이터를 통해 천체의 연령, 조성, 거리 및 기타 중요한 물리적 특성을 결정할 수 있습니다.\n",
    "> - 특징적 연구 분야: F606W 필터는 별의 진화, 은하의 구조, 그리고 적색편이를 포함한 우주의 거대 구조에 대한 연구에 널리 사용됩니다. 또한, 천체 사진에서 상세한 색상 정보를 제공하여, 다른 필터와 결합될 때 더욱 풍부한 정보를 얻을 수 있습니다.\n",
    "> - 관측 효율성: \"Wide V\" 필터로도 알려진 F606W는 넓은 파장 범위를 통과시켜 상대적으로 밝은 이미지를 생성합니다. 이로 인해, 더 먼 천체나 약한 광원도 효과적으로 관찰할 수 있습니다.\n",
    "\n",
    "> F814W 필터 (I)\n",
    "> \n",
    "> 중심 파장이 약 814nm인, 이 필터는 가시광선의 빨간색 끝에 해당하는 'I' 밴드의 빛을 캡처합니다. 별과 은하의 구성 및 거리 측정에 사용되며, 더 먼 천체나 먼지로 인해 빛이 흐려진 천체의 관찰에 유용합니다. 별의 진화 및 은하의 연령 추정에 중요한 데이터를 제공합니다.\n",
    "\n",
    "\n",
    "**일목요연한 정리**\n",
    "\n",
    "> **F275W (UV)**\n",
    "> \n",
    "> - 중심 파장: 약 275nm\n",
    "> - 색상 범위: 자외선(UV)\n",
    "> - 주요 사용: 별 생성 지역, 핫 스타, 활성 은하 핵\n",
    "> - 특징: 고에너지 현상 관찰에 유용\n",
    "\n",
    "> **F336W (U)**\n",
    ">\n",
    "> - 중심 파장: 약 336nm\n",
    "> - 색상 범위: 자외선에 가까운 가시광선\n",
    "> - 주요 사용: 별의 온도, 금속성, 별간 먼지 연구\n",
    "> - 특징: 별의 화학 조성 및 구조 연구에 중요\n",
    "\n",
    "> **F438W (B)**\n",
    ">\n",
    "> - 중심 파장: 약 438nm\n",
    "> - 색상 범위: 파란색 가시광선 (B 밴드)\n",
    "> - 주요 사용: 별의 온도 및 진화 단계, 은하 구조\n",
    "> - 특징: 별과 은하의 색상과 밝기 측정에 유용\n",
    "\n",
    "> **F606W (Wide V)**\n",
    ">\n",
    "> - 중심 파장: 약 606nm\n",
    "> - 색상 범위: 녹색에서 빨간색 사이의 가시광선\n",
    "> - 주요 사용: 별과 은하의 색상과 밝기 측정\n",
    "> - 특징: 적색편이 연구 및 별의 진화에 중요\n",
    "\n",
    "> **F814W (I)**\n",
    ">\n",
    "> - 중심 파장: 약 814nm\n",
    "> - 색상 범위: 빨간색 끝 가시광선 (I 밴드)\n",
    "> - 주요 사용: 거리 측정, 먼지로 가려진 천체 관찰\n",
    "> - 특징: 별과 은하의 구성 및 연령 추정에 중요"
   ]
  },
  {
   "cell_type": "markdown",
   "id": "be7d33d6-feb2-4d0a-aaf8-e08b151f0e38",
   "metadata": {},
   "source": [
    "\n",
    "허블 우주 망원경의 F275W, F336W, F438W, F606W, F814W 필터 각각에 대해 더 자세하게 설명드리겠습니다.\n",
    "\n",
    "> 1. F275W 필터 (UV)\n",
    "    - 중심 파장: 약 275nm\n",
    "    - 색상 범위: 자외선\n",
    "    - 주요 사용: 이 필터는 특히 핫 스타, 활성 은하 핵, 별 생성 지역 등의 고에너지 현상을 관찰하는 데 사용됩니다. 자외선 영역에서의 별과 은하의 활동을 연구하여, 별의 초기 단계와 먼 은하의 세부 사항을 포착하는 데 중요합니다.\n",
    "    - 특징: 자외선 영역에서 강한 별이나 은하의 빛을 감지함으로써, 천체의 온도, 화학적 조성, 밀도 등을 파악할 수 있습니다.\n",
    "  \n",
    "> 2. F336W 필터 (U)\n",
    "    - 중심 파장: 약 336nm\n",
    "    - 색상 범위: 자외선에 가까운 가시광선\n",
    "    - 주요 사용: 별의 온도, 금속성, 그리고 별간 먼지의 효과를 연구하는 데 사용됩니다. 이 필터는 별과 은하의 자외선 방출 특성을 이해하는 데 중요한 역할을 하며, 별의 연령 및 진화 상태에 대한 정보를 제공합니다.\n",
    "    - 특징: 별의 화학적 조성과 대기 특성을 이해하는 데 특히 유용하며, 청색 초거성 및 젊은 별들의 활동을 포착할 수 있습니다.\n",
    "\n",
    "> 3. F438W 필터 (B)\n",
    "    - 중심 파장: 약 438nm\n",
    "    - 색상 범위: 파란색 가시광선\n",
    "    - 주요 사용: 별의 온도와 진화 단계를 이해하는 데 주로 사용됩니다. 은하의 구조와 별의 분포를 파악하는 데 중요하며, 별과 은하의 색상 및 밝기 변화를 측정하는 데 유용합니다.\n",
    "    - 특징: 별의 온도가 높을수록 더 밝게 나타나며, 별이나 은하의 색상 그라디언트를 통해 연령과 구성을 추정할 수 있습니다.\n",
    "\n",
    "> 4. F606W 필터 (Wide V)\n",
    "    - 중심 파장: 약 606nm\n",
    "    - 색상 범위: 녹색에서 빨간색 사이의 가시광선\n",
    "    - 주요 사용: 별과 은하의 색상과 밝기를 측정하는 데 널리 사용됩니다. 특히, 적색편이가 큰 은하의 관찰이나 별의 진화 연구에 유용합니다.\n",
    "    - 특징: 다양한 천체의 색상과 밝기 정보를 제공하며, 별의 연령과 거리 측정에 중요한 데이터를 제공합니다. 또한, 넓은 파장 범위를 포착하여 밝고 선명한 이미지를 생성합니다.\n",
    "\n",
    "> 5. F814W 필터 (I)\n",
    "    - 중심 파장: 약 814nm\n",
    "    - 색상 범위: 빨간색 끝 가시광선\n",
    "    - 주요 사용: 이 필터는 별과 은하의 구성을 연구하고, 특히 먼지로 인해 가려진 천체나 멀리 떨어진 천체의 관찰에 유용합니다. 별의 연령 추정 및 은하의 거리 측정에 중요한 역할을 합니다.\n",
    "    - 특징: 빛의 적외선에 가까운 부분을 포착하여, 먼지로 가려진 지역이나 먼 천체의 관찰에 유리합니다. 또한, 별의 진화 상태 및 은하의 구성을 파악하는 데 중요한 정보를 제공합니다.\n",
    ">\n",
    "\n",
    "![wave_length_spectrum](image/spect.png)"
   ]
  },
  {
   "cell_type": "markdown",
   "id": "ad0ca32a-436a-4f4c-9db7-6cc9c6cd6473",
   "metadata": {},
   "source": [
    "**`허블 기기 약자 설명`**\n",
    ">\n",
    "> - **(WFC3)** Wide Field Camera 3 (WFC3)\n",
    "> - **(COS)** Cosmic Origins Spectrograph (COS)\n",
    "> - **(ACS)** Advanced Camera for Surveys (ACS)\n",
    "> - **(STIS)** Space Telescope Imaging Spectrograph (STIS)\n",
    "> - **(FGS)** Fine Guidance Sensors (FGS).\n",
    "\n",
    "![Hubble](image/HubbleFOV.jpeg)\n",
    "![Hubble](image/Hubble1.jpeg)"
   ]
  },
  {
   "cell_type": "markdown",
   "id": "00b9cc76-02f9-4a0a-adee-d9de55e52684",
   "metadata": {},
   "source": [
    "**`파일명 명명방식`**\n",
    "\n",
    "> `HLSP_HUGS_HST_<INS>_<TARG>_<FILT>_V1_<EXTEN>`\n",
    ">\n",
    "> - `<ins>` = 기기 이름(\"acs-wfc\", \"wfc3-uvis\" 또는 \"wfc3-uvis-acs-wfc\")\n",
    "> - `<targ>` = 대상 클러스터(예: \"ngc6791\")\n",
    "> - `<filt>` = 사용된 필터(예: \"f606w\", 일부 파일 형식의 경우 \"multi\")\n",
    ">- `<exteng>` = 파일 확장자, 다음에 해당합니다:\n",
    "    + stack-????s.fits: 스택 이미지를 얻는 데 사용된 이미지 중 가장 깊은 노출 시간으로 보고된 특정 필터에 대한 스택 이미지입니다.\n",
    "    + catalog-meth?.txt: 주어진 광도 측정 방법으로 얻은 천체 광도 측정 카탈로그\n",
    "    + cmd.png: F275W와 F275W-F336W의 색상 크기 다이어그램 예시\n",
    "    + rgb.tif: F275W, F336W, F438W 스택 이미지로 얻은 클러스터의 RGB 이미지\n",
    "\n",
    "\n"
   ]
  },
  {
   "cell_type": "code",
   "execution_count": 9,
   "id": "90e5f672-86ac-480f-aa69-785daa4e9831",
   "metadata": {},
   "outputs": [
    {
     "name": "stdout",
     "output_type": "stream",
     "text": [
      "['.DS_Store', 'ngc0104', 'ngc0288', 'ngc0362', 'ngc1261', 'ngc1851', 'ngc2298', 'ngc2808', 'ngc3201', 'ngc4590', 'ngc4833', 'ngc5024', 'ngc5053', 'ngc5272', 'ngc5286', 'ngc5466', 'ngc5897', 'ngc5904', 'ngc5927', 'ngc5986', 'ngc6093', 'ngc6101', 'ngc6121', 'ngc6144', 'ngc6171', 'ngc6205', 'ngc6218', 'ngc6254', 'ngc6304', 'ngc6341', 'ngc6352', 'ngc6362', 'ngc6366', 'ngc6388', 'ngc6397', 'ngc6441', 'ngc6496', 'ngc6535', 'ngc6541', 'ngc6584', 'ngc6624', 'ngc6637', 'ngc6652', 'ngc6656', 'ngc6681', 'ngc6715', 'ngc6717', 'ngc6723', 'ngc6752', 'ngc6779', 'ngc6791', 'ngc6809', 'ngc6838', 'ngc6934', 'ngc6981', 'ngc7078', 'ngc7089', 'ngc7099']\n"
     ]
    },
    {
     "data": {
      "text/plain": [
       "\"\\n# 모든 파일명 출력\\nfor file in files_sorted:\\n#     if file.endswith('.fits'):\\n        print(file)\\n\""
      ]
     },
     "execution_count": 9,
     "metadata": {},
     "output_type": "execute_result"
    }
   ],
   "source": [
    "import os\n",
    "\n",
    "# 대상 폴더 경로 설정\n",
    "folder_path = '/Users/younghokim/astro/HUGS'\n",
    "\n",
    "# 폴더 내의 모든 파일 및 폴더 목록을 가져옴\n",
    "files = os.listdir(folder_path)\n",
    "files_sorted = sorted(files, reverse = False)\n",
    "\n",
    "print(files_sorted)\n",
    "\n",
    "'''\n",
    "# 모든 파일명 출력\n",
    "for file in files_sorted:\n",
    "#     if file.endswith('.fits'):\n",
    "        print(file)\n",
    "'''"
   ]
  },
  {
   "cell_type": "code",
   "execution_count": 11,
   "id": "01c774fe-148a-4f7f-8042-2df39b529573",
   "metadata": {},
   "outputs": [
    {
     "name": "stdout",
     "output_type": "stream",
     "text": [
      "hlsp_hugs_hst_wfc3-uvis_ngc0288_multi_v1_rgb.png\n",
      "hlsp_hugs_hst_wfc3-uvis_ngc0288_multi_v1_cmd.png\n"
     ]
    }
   ],
   "source": [
    "# 폴더 내의 모든 파일 및 폴더 목록을 가져옴\n",
    "files = os.listdir('/Users/younghokim/astro/HUGS/ngc0288')\n",
    "\n",
    "# 모든 파일명 출력\n",
    "for file in files:\n",
    "    if file.endswith('.png'):\n",
    "        print(file)"
   ]
  },
  {
   "cell_type": "markdown",
   "id": "297b9ccf-8b09-4c13-9004-63a473a80a93",
   "metadata": {},
   "source": [
    "## NGC 104\n",
    "\n",
    "### NGC104 Introduction\n",
    "NGC 104, 더 널리 알려진 이름으로 47 Tucanae 또는 47 Tuc,는 남쪽 하늘에 있는 밝고 거대한 구상성단입니다. 여기에는 몇 가지 중요한 특징들이 있습니다:\n",
    "\n",
    "\n",
    "1. **위치와 발견:**\n",
    " - 47 Tucanae는 남쪽 별자리인 Tucana (투칸새)에 위치해 있습니다. 유럽인에 의해 1751년 Nicolas-Louis de Lacaille에 의해 처음 기록되었습니다. 지구에서 약 13,000 광년 떨어져 있으며, 밤하늘에서 쉽게 볼 수 있는 밝은 천체 중 하나입니다.\n",
    "\n",
    "2. **구성과 특성:**\n",
    " - 이 성단은 수백만 개의 별로 구성되어 있으며, 대부분은 구상성단 내에서 집단적으로 나이가 들어가는 별들입니다. 별들은 중력에 의해 밀집되어 있으며, 성단 중심부는 특히 별들이 더욱 밀집되어 있습니다.\n",
    "구상성단은 일반적으로 우리 은하계에서 가장 오래된 별 집단 중 하나로 여겨지며, 47 Tuc 역시 대략 120억 년 이상의 나이로 추정됩니다.\n",
    "\n",
    "3. **관측:**\n",
    " - 47 Tucanae는 맨눈으로 볼 수 있을 정도로 밝으며, 남반구에서 특히 잘 보입니다. 아마추어 천문학자들에게도 인기 있는 관측 대상이며, 작은 망원경을 사용하면 성단의 밀집된 별 구조를 더욱 세밀하게 볼 수 있습니다.\n",
    "\n",
    "4. **과학적 중요성:**\n",
    " - 47 Tuc은 천문학자들에게 중요한 연구 대상입니다. 구상성단은 은하 진화, 별 집단의 역동성, 그리고 별의 진화와 같은 다양한 천문학적 문제를 이해하는 데 도움을 줍니다.\n",
    "또한, 성단 내에서 다수의 변광성, 밀리초 펄서 등 흥미로운 천체들이 발견되었습니다. 이는 천체물리학의 다양한 측면을 연구하는 데 중요한 정보를 제공합니다."
   ]
  },
  {
   "cell_type": "markdown",
   "id": "0dc00bd2-17a1-4cf3-b610-cefa6f23e92e",
   "metadata": {},
   "source": [
    "### NGC104 RGB image\n",
    "\n",
    "![NGC104_rgb](HUGS/ngc0104/hlsp_hugs_hst_wfc3-uvis_ngc0104_multi_v1_rgb.png)"
   ]
  },
  {
   "cell_type": "markdown",
   "id": "ed80771d-f6d5-452c-9650-d53d238222c4",
   "metadata": {},
   "source": [
    "### NGC104 CMD\n",
    "\n",
    "![NGC104_CMD](HUGS/ngc0104/hlsp_hugs_hst_wfc3-uvis_ngc0104_multi_v1_cmd.png)"
   ]
  },
  {
   "cell_type": "markdown",
   "id": "23cb4e74-46c4-4eca-afba-2fe37bd91be6",
   "metadata": {},
   "source": [
    "## NGC288\n",
    "\n",
    "### NGC288 Introduction\n"
   ]
  },
  {
   "cell_type": "markdown",
   "id": "55c57416-1e64-439a-9c53-df65f6dc5b34",
   "metadata": {},
   "source": [
    "### NGC288 RGB image\n",
    "\n",
    "![NGC288_rgb](HUGS/ngc0288/hlsp_hugs_hst_wfc3-uvis_ngc0288_multi_v1_rgb.png)"
   ]
  },
  {
   "cell_type": "markdown",
   "id": "c1b8fb1a-5723-4a2d-8861-f88ca3bed5b2",
   "metadata": {},
   "source": [
    "### NGC288 CMD\n",
    "\n",
    "![NGC288_rgb](HUGS/ngc0288/hlsp_hugs_hst_wfc3-uvis_ngc0288_multi_v1_cmd.png)"
   ]
  },
  {
   "cell_type": "markdown",
   "id": "83135230-1334-44e6-8bcc-8fb74ff7e951",
   "metadata": {},
   "source": [
    "## NGC362\n",
    "\n",
    "### NGC362 Introduction"
   ]
  },
  {
   "cell_type": "markdown",
   "id": "cd7970a2-1de0-4e5d-86ee-18a7bcf3e274",
   "metadata": {},
   "source": [
    "### NGC362 RGB image\n",
    "\n",
    "![NGC362_rgb](HUGS/ngc0362/hlsp_hugs_hst_wfc3-uvis_ngc0362_multi_v1_rgb.png)"
   ]
  },
  {
   "cell_type": "markdown",
   "id": "342277e1-9b94-49f2-8269-cca5f5431859",
   "metadata": {},
   "source": [
    "### NGC362 CMD\n",
    "\n",
    "![NGC362_CMD](HUGS/ngc0362/hlsp_hugs_hst_wfc3-uvis_ngc0362_multi_v1_cmd.png)"
   ]
  },
  {
   "cell_type": "markdown",
   "id": "7439a0a1-a45d-4fa1-af24-ae129db76a57",
   "metadata": {},
   "source": [
    "## NGC1261\n",
    "\n",
    "### NGC1261 Introduction"
   ]
  },
  {
   "cell_type": "markdown",
   "id": "96115e62-0cc7-46cb-a836-5978339369a6",
   "metadata": {},
   "source": [
    "### NGC1261 RGB image\n",
    "\n",
    "![NGC1261_rgb](HUGS/ngc1261/hlsp_hugs_hst_wfc3-uvis_ngc1261_multi_v1_rgb.png)"
   ]
  },
  {
   "cell_type": "markdown",
   "id": "60aa21e9-dac5-41e1-a916-40587f669d5d",
   "metadata": {},
   "source": [
    "### NGC1261 CMD\n",
    "\n",
    "![NGC1261_CMD](HUGS/ngc1261/hlsp_hugs_hst_wfc3-uvis_ngc1261_multi_v1_cmd.png)"
   ]
  },
  {
   "cell_type": "markdown",
   "id": "72e9c60b-d52d-406f-aadf-80b23da59521",
   "metadata": {},
   "source": [
    "## NGC1851\n",
    "\n",
    "### NGC1851 Introduction"
   ]
  },
  {
   "cell_type": "markdown",
   "id": "2064a33b-e5b5-4523-96c4-c5a546691cb3",
   "metadata": {},
   "source": [
    "### NGC1851 RGB image\n",
    "\n",
    "![NGC1851_rgb](HUGS/ngc1851/hlsp_hugs_hst_wfc3-uvis_ngc1851_multi_v1_rgb.png)"
   ]
  },
  {
   "cell_type": "markdown",
   "id": "d2f800aa-6f75-416a-833e-4daf77a40475",
   "metadata": {},
   "source": [
    "### NGC1851 CMD\n",
    "\n",
    "![NGC1851_CMD](HUGS/ngc1851/hlsp_hugs_hst_wfc3-uvis_ngc1851_multi_v1_cmd.png)"
   ]
  },
  {
   "cell_type": "markdown",
   "id": "17a65715-5da6-42d8-831b-9fe78647a3ce",
   "metadata": {},
   "source": [
    "## NGC2298\n",
    "\n",
    "### NGC2298 Introduction"
   ]
  },
  {
   "cell_type": "markdown",
   "id": "0437b556-7242-47a1-a528-8c9f6f1c6999",
   "metadata": {},
   "source": [
    "### NGC2298 RGB image\n",
    "\n",
    "![NGC2298_rgb](HUGS/ngc2298/hlsp_hugs_hst_wfc3-uvis_ngc2298_multi_v1_rgb.png)"
   ]
  },
  {
   "cell_type": "markdown",
   "id": "3fb58c2c-cc76-4c03-9c38-f71f382789a7",
   "metadata": {},
   "source": [
    "### NGC2298 CMD\n",
    "\n",
    "![NGC2298_CMD](HUGS/ngc2298/hlsp_hugs_hst_wfc3-uvis_ngc2298_multi_v1_cmd.png)"
   ]
  },
  {
   "cell_type": "markdown",
   "id": "61e590d2-c5b9-4ee7-9a63-79d4b0ffb85b",
   "metadata": {},
   "source": [
    "## NGC2808\n",
    "\n",
    "### NGC2808 Introduction"
   ]
  },
  {
   "cell_type": "markdown",
   "id": "a493cdee-4b70-4bb5-b695-ff53f2b06142",
   "metadata": {},
   "source": [
    "### NGC2808 RGB image\n",
    "\n",
    "![NGC2808_rgb](HUGS/ngc2808/hlsp_hugs_hst_wfc3-uvis_ngc2808_multi_v1_rgb.png)"
   ]
  },
  {
   "cell_type": "markdown",
   "id": "2686dee0-6be0-4ffe-b235-4db62847e32e",
   "metadata": {},
   "source": [
    "### NGC2808 CMD\n",
    "\n",
    "![NGC2808_CMD](HUGS/ngc2808/hlsp_hugs_hst_wfc3-uvis_ngc2808_multi_v1_cmd.png)"
   ]
  },
  {
   "cell_type": "markdown",
   "id": "19f5fb63-68a0-4d79-b37d-f9405976e4bc",
   "metadata": {},
   "source": [
    "## NGC3201\n",
    "\n",
    "### NGC3201 Introduction"
   ]
  },
  {
   "cell_type": "markdown",
   "id": "4b819b18-2822-418a-ae86-0470f7eaa0ce",
   "metadata": {},
   "source": [
    "### NGC3201 RGB image\n",
    "\n",
    "![NGC3201_rgb](HUGS/ngc3201/hlsp_hugs_hst_wfc3-uvis_ngc3201_multi_v1_rgb.png)"
   ]
  },
  {
   "cell_type": "markdown",
   "id": "2735f958-4a34-4935-aeaf-f7fb0c83e543",
   "metadata": {},
   "source": [
    "### NGC3201 CMD\n",
    "\n",
    "![NGC3201_CMD](HUGS/ngc3201/hlsp_hugs_hst_wfc3-uvis_ngc3201_multi_v1_cmd.png)"
   ]
  },
  {
   "cell_type": "markdown",
   "id": "b31b6a49-fe0b-48c5-a85e-68b56e282c5e",
   "metadata": {},
   "source": [
    "## NGC4590\n",
    "\n",
    "### NGC4590 Introduction"
   ]
  },
  {
   "cell_type": "markdown",
   "id": "d1bc6bcc-26f6-4076-9f97-5ad06ae06e6d",
   "metadata": {},
   "source": [
    "### NGC4590 RGB image\n",
    "\n",
    "![NGC4590_rgb](HUGS/ngc4590/hlsp_hugs_hst_wfc3-uvis_ngc4590_multi_v1_rgb.png)"
   ]
  },
  {
   "cell_type": "markdown",
   "id": "767e94e9-e350-4799-95a8-ef5eb4aede2f",
   "metadata": {},
   "source": [
    "### NGC4590 CMD\n",
    "\n",
    "![NGC4590_CMD](HUGS/ngc4590/hlsp_hugs_hst_wfc3-uvis_ngc4590_multi_v1_cmd.png)"
   ]
  },
  {
   "cell_type": "markdown",
   "id": "f8b49ee7-c7e7-4a97-ab09-013a3af6f63d",
   "metadata": {},
   "source": [
    "## NGC4833\n",
    "\n",
    "### NGC4833 Introduction"
   ]
  },
  {
   "cell_type": "markdown",
   "id": "63cf3e29-dc51-4c3d-926b-a44ac7dbadd6",
   "metadata": {},
   "source": [
    "### NGC4833 RGB image\n",
    "\n",
    "![NGC4833_rgb](HUGS/ngc4833/hlsp_hugs_hst_wfc3-uvis_ngc4833_multi_v1_rgb.png)"
   ]
  },
  {
   "cell_type": "markdown",
   "id": "e0306050-7791-460f-9d10-6cfe83c4ac40",
   "metadata": {},
   "source": [
    "### NGC4833 CMD\n",
    "\n",
    "![NGC4833_CMD](HUGS/ngc4833/hlsp_hugs_hst_wfc3-uvis_ngc4833_multi_v1_cmd.png)"
   ]
  },
  {
   "cell_type": "markdown",
   "id": "add3c7b8-00dd-43a8-8f47-1f16f21511f4",
   "metadata": {},
   "source": [
    "## NGC5024\n",
    "\n",
    "### NGC5024 Introduction"
   ]
  },
  {
   "cell_type": "markdown",
   "id": "a7447171-9e85-45cf-ba76-51acab03b55d",
   "metadata": {},
   "source": [
    "### NGC5024 RGB image\n",
    "\n",
    "![NGC5024_rgb](HUGS/ngc5024/hlsp_hugs_hst_wfc3-uvis_ngc5024_multi_v1_rgb.png)"
   ]
  },
  {
   "cell_type": "markdown",
   "id": "1028e515-9256-4c34-8ddc-bc2d058a9639",
   "metadata": {},
   "source": [
    "### NGC5024 CMD\n",
    "\n",
    "![NGC5024_CMD](HUGS/ngc5024/hlsp_hugs_hst_wfc3-uvis_ngc5024_multi_v1_cmd.png)"
   ]
  },
  {
   "cell_type": "markdown",
   "id": "5f4e2e75-5902-4ccf-a6bf-fc148a679deb",
   "metadata": {},
   "source": [
    "## NGC5053\n",
    "\n",
    "### NGC5053 Introduction"
   ]
  },
  {
   "cell_type": "markdown",
   "id": "3a4ff061-bf44-4e10-a106-04abb3b38eda",
   "metadata": {},
   "source": [
    "### NGC5053 RGB image\n",
    "\n",
    "![NGC5053_rgb](HUGS/ngc5053/hlsp_hugs_hst_wfc3-uvis_ngc5053_multi_v1_rgb.png)"
   ]
  },
  {
   "cell_type": "markdown",
   "id": "db8033ee-7aaf-4bd3-8d07-135a819e3e4a",
   "metadata": {},
   "source": [
    "### NGC5053 CMD\n",
    "\n",
    "![NGC5053_CMD](HUGS/ngc5053/hlsp_hugs_hst_wfc3-uvis_ngc5053_multi_v1_cmd.png)"
   ]
  },
  {
   "cell_type": "markdown",
   "id": "75992902-4288-4020-b9b8-bc6a9a9ee7a0",
   "metadata": {},
   "source": [
    "## NGC5272\n",
    "\n",
    "### NGC5272 Introduction"
   ]
  },
  {
   "cell_type": "markdown",
   "id": "71984c7c-077d-4ab5-89fe-944cb99cd169",
   "metadata": {},
   "source": [
    "### NGC5272 RGB image\n",
    "\n",
    "![NGC5272_rgb](HUGS/ngc5272/hlsp_hugs_hst_wfc3-uvis_ngc5272_multi_v1_rgb.png)"
   ]
  },
  {
   "cell_type": "markdown",
   "id": "9645a2ad-93bd-4906-8833-0e4f644661e3",
   "metadata": {},
   "source": [
    "### NGC5272 CMD\n",
    "\n",
    "![NGC5272_CMD](HUGS/ngc5272/hlsp_hugs_hst_wfc3-uvis_ngc5272_multi_v1_cmd.png)"
   ]
  },
  {
   "cell_type": "markdown",
   "id": "c632f2c1-f25a-498a-98b0-13f48b27f691",
   "metadata": {},
   "source": [
    "## NGC5286\n",
    "\n",
    "### NGC5286 Introduction"
   ]
  },
  {
   "cell_type": "markdown",
   "id": "f3e19ea7-c80c-4df4-adc0-ebedf8bce1d9",
   "metadata": {},
   "source": [
    "### NGC5286 RGB image\n",
    "\n",
    "![NGC5286_rgb](HUGS/ngc5286/hlsp_hugs_hst_wfc3-uvis_ngc5286_multi_v1_rgb.png)"
   ]
  },
  {
   "cell_type": "markdown",
   "id": "9c3e1acc-a48b-4dd1-98a7-06fc00a096fa",
   "metadata": {},
   "source": [
    "### NGC5286 CMD\n",
    "\n",
    "![NGC5286_CMD](HUGS/ngc5286/hlsp_hugs_hst_wfc3-uvis_ngc5286_multi_v1_cmd.png)"
   ]
  },
  {
   "cell_type": "markdown",
   "id": "194b2cb7-623a-41cf-878f-ddf131a9ede7",
   "metadata": {},
   "source": [
    "## NGC5466\n",
    "\n",
    "### NGC5466 Introduction"
   ]
  },
  {
   "cell_type": "markdown",
   "id": "fea9651f-3e4b-4fc6-ad92-ebb261441a14",
   "metadata": {},
   "source": [
    "### NGC5466 RGB image\n",
    "\n",
    "![NGC5466_rgb](HUGS/ngc5466/hlsp_hugs_hst_wfc3-uvis_ngc5466_multi_v1_rgb.png)"
   ]
  },
  {
   "cell_type": "markdown",
   "id": "094252a1-4f59-4404-b6f4-299b249e77c0",
   "metadata": {},
   "source": [
    "### NGC5466 CMD\n",
    "\n",
    "![NGC5466_CMD](HUGS/ngc5466/hlsp_hugs_hst_wfc3-uvis_ngc5466_multi_v1_cmd.png)"
   ]
  },
  {
   "cell_type": "markdown",
   "id": "9b212c30-2719-4815-847c-b0b62b82a3a7",
   "metadata": {},
   "source": [
    "## NGC5897\n",
    "\n",
    "### NGC5897 Introduction"
   ]
  },
  {
   "cell_type": "markdown",
   "id": "bd032d8d-3810-4044-aac7-6cacaf0b8f9f",
   "metadata": {},
   "source": [
    "### NGC5897 RGB image\n",
    "\n",
    "![NGC5897_rgb](HUGS/ngc5897/hlsp_hugs_hst_wfc3-uvis_ngc5897_multi_v1_rgb.png)"
   ]
  },
  {
   "cell_type": "markdown",
   "id": "25381585-c8c0-4df1-bcda-41e3359fa0d5",
   "metadata": {},
   "source": [
    "### NGC5897 CMD\n",
    "\n",
    "![NGC5897_CMD](HUGS/ngc5897/hlsp_hugs_hst_wfc3-uvis_ngc5897_multi_v1_cmd.png)"
   ]
  },
  {
   "cell_type": "markdown",
   "id": "e4eeb1f6-8a01-45aa-bc9e-a776cb5c3f98",
   "metadata": {},
   "source": [
    "## NGC5904\n",
    "\n",
    "### NGC5904 Introduction"
   ]
  },
  {
   "cell_type": "markdown",
   "id": "a71e22d2-1977-4cfe-b6ba-db36ccae6e0f",
   "metadata": {},
   "source": [
    "### NGC5904 RGB image\n",
    "\n",
    "![NGC5904_rgb](HUGS/ngc5904/hlsp_hugs_hst_wfc3-uvis_ngc5904_multi_v1_rgb.png)"
   ]
  },
  {
   "cell_type": "markdown",
   "id": "8aaa2cf8-3fc2-44d0-9b7f-70fedfc80af0",
   "metadata": {},
   "source": [
    "### NGC5904 CMD\n",
    "\n",
    "![NGC5904_CMD](HUGS/ngc5904/hlsp_hugs_hst_wfc3-uvis_ngc5904_multi_v1_cmd.png)"
   ]
  },
  {
   "cell_type": "markdown",
   "id": "9bd800eb-964b-462d-a9f8-3401bca998f7",
   "metadata": {},
   "source": [
    "## NGC5927\n",
    "\n",
    "### NGC5927 Introduction"
   ]
  },
  {
   "cell_type": "markdown",
   "id": "722183da-b1d9-46ca-b94b-15d745b29788",
   "metadata": {},
   "source": [
    "### NGC5927 RGB image\n",
    "\n",
    "![NGC5927_rgb](HUGS/ngc5927/hlsp_hugs_hst_wfc3-uvis_ngc5927_multi_v1_rgb.png)"
   ]
  },
  {
   "cell_type": "markdown",
   "id": "c050e141-3c57-47f5-b3bb-3894e074945a",
   "metadata": {},
   "source": [
    "### NGC5927 CMD\n",
    "\n",
    "![NGC5927_CMD](HUGS/ngc5927/hlsp_hugs_hst_wfc3-uvis_ngc5927_multi_v1_cmd.png)"
   ]
  },
  {
   "cell_type": "markdown",
   "id": "2deae1cc-5330-45ce-b152-d1c71236c0e6",
   "metadata": {},
   "source": [
    "## NGC5986\n",
    "\n",
    "### NGC5986 Introduction"
   ]
  },
  {
   "cell_type": "markdown",
   "id": "bb9f5220-1315-442d-95e6-9aaeb6a199c9",
   "metadata": {},
   "source": [
    "### NGC5986 RGB image\n",
    "\n",
    "![NGC5986_rgb](HUGS/ngc5986/hlsp_hugs_hst_wfc3-uvis_ngc5986_multi_v1_rgb.png)"
   ]
  },
  {
   "cell_type": "markdown",
   "id": "04b91e68-5f79-4c15-b03f-400e7ff07458",
   "metadata": {},
   "source": [
    "### NGC5986 CMD\n",
    "\n",
    "![NGC5986_CMD](HUGS/ngc5986/hlsp_hugs_hst_wfc3-uvis_ngc5986_multi_v1_cmd.png)"
   ]
  },
  {
   "cell_type": "markdown",
   "id": "80de84fd-d425-4600-ba38-4dbc74751d8b",
   "metadata": {},
   "source": [
    "## NGC6093\n",
    "\n",
    "### NGC6093 Introduction"
   ]
  },
  {
   "cell_type": "markdown",
   "id": "55f91ce1-9632-4655-8723-ed68afb2125e",
   "metadata": {},
   "source": [
    "### NGC6093 RGB image\n",
    "\n",
    "![NGC6093_rgb](HUGS/ngc6093/hlsp_hugs_hst_wfc3-uvis_ngc6093_multi_v1_rgb.png)"
   ]
  },
  {
   "cell_type": "markdown",
   "id": "1547551b-6325-4fb0-86e6-35ced84066ae",
   "metadata": {},
   "source": [
    "### NGC6093 CMD\n",
    "\n",
    "![NGC6093_CMD](HUGS/ngc6093/hlsp_hugs_hst_wfc3-uvis_ngc6093_multi_v1_cmd.png)"
   ]
  },
  {
   "cell_type": "markdown",
   "id": "aa710004-bca9-4ac2-ab7c-cf623faa2afc",
   "metadata": {},
   "source": [
    "## NGC6101\n",
    "\n",
    "### NGC6101 Introduction"
   ]
  },
  {
   "cell_type": "markdown",
   "id": "ef7ec680-abe6-4e1b-81f7-9db3d8c90625",
   "metadata": {},
   "source": [
    "### NGC6101 RGB image\n",
    "\n",
    "![NGC6101_rgb](HUGS/ngc6101/hlsp_hugs_hst_wfc3-uvis_ngc6101_multi_v1_rgb.png)"
   ]
  },
  {
   "cell_type": "markdown",
   "id": "925fe969-6dde-44fb-872c-89f3d0b29665",
   "metadata": {},
   "source": [
    "### NGC6101 CMD\n",
    "\n",
    "![NGC6101_CMD](HUGS/ngc6101/hlsp_hugs_hst_wfc3-uvis_ngc6101_multi_v1_cmd.png)"
   ]
  },
  {
   "cell_type": "markdown",
   "id": "49100603-a087-4866-adf4-672830c22510",
   "metadata": {},
   "source": [
    "## NGC6121\n",
    "\n",
    "### NGC6121 Introduction"
   ]
  },
  {
   "cell_type": "markdown",
   "id": "10ab961a-a2fc-435d-9130-d1663dc8f70a",
   "metadata": {},
   "source": [
    "### NGC6121 RGB image\n",
    "\n",
    "![NGC6121_rgb](HUGS/ngc6121/hlsp_hugs_hst_wfc3-uvis_ngc6121_multi_v1_rgb.png)"
   ]
  },
  {
   "cell_type": "markdown",
   "id": "53649170-ec7e-4965-8d58-22a66c2ad99a",
   "metadata": {},
   "source": [
    "### NGC6121 CMD\n",
    "\n",
    "![NGC6121_CMD](HUGS/ngc6121/hlsp_hugs_hst_wfc3-uvis_ngc6121_multi_v1_cmd.png)"
   ]
  },
  {
   "cell_type": "markdown",
   "id": "eac853e6-5653-4ca0-ab07-bda39a071008",
   "metadata": {},
   "source": [
    "## NGC6144\n",
    "\n",
    "### NGC6144 Introduction"
   ]
  },
  {
   "cell_type": "markdown",
   "id": "f0daee02-80fd-4188-967b-9738226779d1",
   "metadata": {},
   "source": [
    "### NGC6144 RGB image\n",
    "\n",
    "![NGC6144_rgb](HUGS/ngc6144/hlsp_hugs_hst_wfc3-uvis_ngc6144_multi_v1_rgb.png)"
   ]
  },
  {
   "cell_type": "markdown",
   "id": "abd30703-6ab9-4c6e-ba9a-bb95e8f62a51",
   "metadata": {},
   "source": [
    "### NGC6144 CMD\n",
    "\n",
    "![NGC6144_CMD](HUGS/ngc6144/hlsp_hugs_hst_wfc3-uvis_ngc6144_multi_v1_cmd.png)"
   ]
  },
  {
   "cell_type": "markdown",
   "id": "a189f71b-9dd6-4739-8ecf-6e75b962f569",
   "metadata": {},
   "source": [
    "## NGC6171\n",
    "\n",
    "### NGC6171 Introduction"
   ]
  },
  {
   "cell_type": "markdown",
   "id": "1cfbd604-f08c-4121-b91e-8e9910e6861b",
   "metadata": {},
   "source": [
    "### NGC6171 RGB image\n",
    "\n",
    "![NGC6171_rgb](HUGS/ngc6171/hlsp_hugs_hst_wfc3-uvis_ngc6171_multi_v1_rgb.png)"
   ]
  },
  {
   "cell_type": "markdown",
   "id": "e9256f17-251b-4451-bc8c-976d05def0dc",
   "metadata": {},
   "source": [
    "### NGC6171 CMD\n",
    "\n",
    "![NGC6171_CMD](HUGS/ngc6171/hlsp_hugs_hst_wfc3-uvis_ngc6171_multi_v1_cmd.png)"
   ]
  },
  {
   "cell_type": "markdown",
   "id": "893a3173-2a73-475c-ad24-e8a07f31cd98",
   "metadata": {},
   "source": [
    "## NGC6205\n",
    "\n",
    "### NGC6205 Introduction "
   ]
  },
  {
   "cell_type": "markdown",
   "id": "5f61eb2a-28f1-4e0f-9965-24e43054f280",
   "metadata": {},
   "source": [
    "### NGC6205 RGB image\n",
    "\n",
    "![NGC6205_rgb](HUGS/ngc6205/hlsp_hugs_hst_wfc3-uvis_ngc6205_multi_v1_rgb.png)"
   ]
  },
  {
   "cell_type": "markdown",
   "id": "26d53d7c-a1f7-43ca-83a5-c4813180f697",
   "metadata": {},
   "source": [
    "### NGC6205 CMD\n",
    "\n",
    "![NGC6205_CMD](HUGS/ngc6205/hlsp_hugs_hst_wfc3-uvis_ngc6205_multi_v1_cmd.png)"
   ]
  },
  {
   "cell_type": "markdown",
   "id": "95b8a9e6-ca76-4eca-9d9b-420009bc246f",
   "metadata": {},
   "source": [
    "## NGC6218\n",
    "\n",
    "### NGC6218 Introduction"
   ]
  },
  {
   "cell_type": "markdown",
   "id": "9ab55319-bd41-44b7-8b10-857e950e0de4",
   "metadata": {},
   "source": [
    "### NGC6218 RGB image\n",
    "\n",
    "![NGC6218_rgb](HUGS/ngc6218/hlsp_hugs_hst_wfc3-uvis_ngc6218_multi_v1_rgb.png)"
   ]
  },
  {
   "cell_type": "markdown",
   "id": "29cf2607-5437-4f45-97bd-d95432abd301",
   "metadata": {},
   "source": [
    "### NGC6218 CMD\n",
    "\n",
    "![NGC6218_CMD](HUGS/ngc6218/hlsp_hugs_hst_wfc3-uvis_ngc6218_multi_v1_cmd.png)"
   ]
  },
  {
   "cell_type": "markdown",
   "id": "09e176e8-9e13-48f5-9387-6a4a9b928c78",
   "metadata": {},
   "source": [
    "## NGC6254\n",
    "\n",
    "### NGC6254 Introduction"
   ]
  },
  {
   "cell_type": "markdown",
   "id": "2c6df18e-2efd-4598-b9d0-dc00bcb088d1",
   "metadata": {},
   "source": [
    "### NGC6254 RGB image\n",
    "\n",
    "![NGC6254_rgb](HUGS/ngc6254/hlsp_hugs_hst_wfc3-uvis_ngc6254_multi_v1_rgb.png)"
   ]
  },
  {
   "cell_type": "markdown",
   "id": "05ab6338-9670-44f3-a431-7c3083399c95",
   "metadata": {},
   "source": [
    "### NGC6254 CMD\n",
    "\n",
    "![NGC6254_CMD](HUGS/ngc6254/hlsp_hugs_hst_wfc3-uvis_ngc6254_multi_v1_cmd.png)"
   ]
  },
  {
   "cell_type": "markdown",
   "id": "3145771c-90a4-456b-a074-a71e4b06e0b3",
   "metadata": {},
   "source": [
    "## NGC6304\n",
    "\n",
    "### NGC6304 Introduction"
   ]
  },
  {
   "cell_type": "markdown",
   "id": "08a4e3ce-6317-4542-a89e-43d4796f4666",
   "metadata": {},
   "source": [
    "### NGC6304 RGB image\n",
    "\n",
    "![NGC6304_rgb](HUGS/ngc6304/hlsp_hugs_hst_wfc3-uvis_ngc6304_multi_v1_rgb.png)"
   ]
  },
  {
   "cell_type": "markdown",
   "id": "473da724-5242-45de-a517-d245cc4a2f88",
   "metadata": {},
   "source": [
    "### NGC6304 CMD\n",
    "\n",
    "![NGC6304_CMD](HUGS/ngc6304/hlsp_hugs_hst_wfc3-uvis_ngc6304_multi_v1_cmd.png)"
   ]
  },
  {
   "cell_type": "markdown",
   "id": "6226af93-cb07-462f-90cc-84787601a5d2",
   "metadata": {},
   "source": [
    "## NGC6341\n",
    "\n",
    "### NGC6341 Introduction"
   ]
  },
  {
   "cell_type": "markdown",
   "id": "a18040ed-cc3b-4f3a-afa8-46881c62145c",
   "metadata": {},
   "source": [
    "### NGC6341 RGB image\n",
    "\n",
    "![NGC6341_rgb](HUGS/ngc6341/hlsp_hugs_hst_wfc3-uvis_ngc6341_multi_v1_rgb.png)"
   ]
  },
  {
   "cell_type": "markdown",
   "id": "3850c0c5-1423-47d3-b0b4-e4b93291d938",
   "metadata": {},
   "source": [
    "### NGC6341 CMD\n",
    "\n",
    "![NGC6341_CMD](HUGS/ngc6341/hlsp_hugs_hst_wfc3-uvis_ngc6341_multi_v1_cmd.png)"
   ]
  },
  {
   "cell_type": "markdown",
   "id": "d8f8b233-6a28-4883-8bcf-3c0a7d53e5d7",
   "metadata": {},
   "source": [
    "## NGC6352\n",
    "\n",
    "### NGC6352 Introduction"
   ]
  },
  {
   "cell_type": "markdown",
   "id": "9e2b15dd-b455-4ea7-97a4-cf2ecafeac0d",
   "metadata": {},
   "source": [
    "### NGC6352 RGB image\n",
    "\n",
    "![NGC6352_rgb](HUGS/ngc6352/hlsp_hugs_hst_wfc3-uvis_ngc6352_multi_v1_rgb.png)"
   ]
  },
  {
   "cell_type": "markdown",
   "id": "3f61c35d-54f9-4a3b-8188-ce9d62b93662",
   "metadata": {},
   "source": [
    "### NGC6352 CMD\n",
    "\n",
    "![NGC6352_CMD](HUGS/ngc6352/hlsp_hugs_hst_wfc3-uvis_ngc6352_multi_v1_cmd.png)"
   ]
  },
  {
   "cell_type": "markdown",
   "id": "afdf40f4-bc9b-426b-9457-4915e957215e",
   "metadata": {},
   "source": [
    "## NGC6362\n",
    "\n",
    "### NGC6362 Introduction"
   ]
  },
  {
   "cell_type": "markdown",
   "id": "886d9883-5dc8-46f6-9d0a-d9b43d585a9a",
   "metadata": {},
   "source": [
    "### NGC6362 RGB image\n",
    "\n",
    "![NGC6362_rgb](HUGS/ngc6362/hlsp_hugs_hst_wfc3-uvis_ngc6362_multi_v1_rgb.png)"
   ]
  },
  {
   "cell_type": "markdown",
   "id": "0d49d193-6b9d-4038-a7b8-3e96c2c55a39",
   "metadata": {},
   "source": [
    "### NGC6362 CMD\n",
    "\n",
    "![NGC6362_CMD](HUGS/ngc6362/hlsp_hugs_hst_wfc3-uvis_ngc6362_multi_v1_cmd.png)"
   ]
  },
  {
   "cell_type": "markdown",
   "id": "e1fd3ab1-5190-4b08-ae68-51a9b1acf5f3",
   "metadata": {},
   "source": [
    "## NGC6366\n",
    "\n",
    "### NGC6366 Introduction"
   ]
  },
  {
   "cell_type": "markdown",
   "id": "1e5079ba-3e42-429e-a7eb-c7682612f12e",
   "metadata": {},
   "source": [
    "### NGC6366 RGB image\n",
    "\n",
    "![NGC6366_rgb](HUGS/ngc6366/hlsp_hugs_hst_wfc3-uvis_ngc6366_multi_v1_rgb.png)"
   ]
  },
  {
   "cell_type": "markdown",
   "id": "7053f460-4b93-41a4-93f8-0f000324a937",
   "metadata": {},
   "source": [
    "### NGC6366 CMD\n",
    "\n",
    "![NGC6366_CMD](HUGS/ngc6366/hlsp_hugs_hst_wfc3-uvis_ngc6366_multi_v1_cmd.png)"
   ]
  },
  {
   "cell_type": "markdown",
   "id": "8188d73c-88ea-4029-a843-51b84e2cd772",
   "metadata": {},
   "source": [
    "## NGC6388\n",
    "\n",
    "### NGC6388 Introduction"
   ]
  },
  {
   "cell_type": "markdown",
   "id": "cd67c348-5903-4721-94bb-a5f4aa29c41a",
   "metadata": {},
   "source": [
    "### NGC6388 RGB image\n",
    "\n",
    "![NGC6388_rgb](HUGS/ngc6388/hlsp_hugs_hst_wfc3-uvis_ngc6388_multi_v1_rgb.png)"
   ]
  },
  {
   "cell_type": "markdown",
   "id": "f77ef43d-658f-4fad-8d79-1fc4b66e1ca9",
   "metadata": {},
   "source": [
    "### NGC6388 CMD\n",
    "\n",
    "![NGC6388_CMD](HUGS/ngc6388/hlsp_hugs_hst_wfc3-uvis_ngc6388_multi_v1_cmd.png)"
   ]
  },
  {
   "cell_type": "markdown",
   "id": "3d7e1e46-a31c-4a10-8eea-78fc9fcd77ed",
   "metadata": {},
   "source": [
    "## NGC6397\n",
    "\n",
    "### NGC6397 Introduction"
   ]
  },
  {
   "cell_type": "markdown",
   "id": "1a6d98f3-d785-4a04-ba0a-3d6b3ca33e6f",
   "metadata": {},
   "source": [
    "### NGC6397 RGB image\n",
    "\n",
    "![NGC6397_rgb](HUGS/ngc6397/hlsp_hugs_hst_wfc3-uvis_ngc6397_multi_v1_rgb.png)"
   ]
  },
  {
   "cell_type": "markdown",
   "id": "88f9df77-a774-4ce7-826d-f831fdd3a9d7",
   "metadata": {},
   "source": [
    "### NGC6397 CMD\n",
    "\n",
    "![NGC6397_CMD](HUGS/ngc6397/hlsp_hugs_hst_wfc3-uvis_ngc6397_multi_v1_cmd.png)"
   ]
  },
  {
   "cell_type": "markdown",
   "id": "ae26277c-c7c0-40f0-bfc6-2bad7b3633b5",
   "metadata": {},
   "source": [
    "## NGC6441\n",
    "\n",
    "### NGC6441 Introduction"
   ]
  },
  {
   "cell_type": "markdown",
   "id": "76f87b0f-5a56-4487-9a0c-3b084eaf76e7",
   "metadata": {},
   "source": [
    "### NGC6441 RGB image\n",
    "\n",
    "![NGC6441_rgb](HUGS/ngc6441/hlsp_hugs_hst_wfc3-uvis_ngc6441_multi_v1_rgb.png)"
   ]
  },
  {
   "cell_type": "markdown",
   "id": "a8b80f6d-b711-496b-bbab-18847f08941a",
   "metadata": {},
   "source": [
    "### NGC6441 CMD\n",
    "\n",
    "![NGC6441_CMD](HUGS/ngc6441/hlsp_hugs_hst_wfc3-uvis_ngc6441_multi_v1_cmd.png)"
   ]
  },
  {
   "cell_type": "markdown",
   "id": "0d573295-3422-4db9-bc06-6d51fd4a8cd5",
   "metadata": {},
   "source": [
    "## NGC6496\n",
    "\n",
    "### NGC6496 Introduction"
   ]
  },
  {
   "cell_type": "markdown",
   "id": "2c5bd984-c346-4645-9f21-bb4de97cc51e",
   "metadata": {},
   "source": [
    "### NGC6496 RGB image\n",
    "\n",
    "![NGC6496_rgb](HUGS/ngc6496/hlsp_hugs_hst_wfc3-uvis_ngc6496_multi_v1_rgb.png)"
   ]
  },
  {
   "cell_type": "markdown",
   "id": "e45c998b-400b-4f51-84e8-4a86280e2469",
   "metadata": {},
   "source": [
    "### NGC6496 CMD\n",
    "\n",
    "![NGC6496_CMD](HUGS/ngc6496/hlsp_hugs_hst_wfc3-uvis_ngc6496_multi_v1_cmd.png)"
   ]
  },
  {
   "cell_type": "markdown",
   "id": "950fbd11-06af-4a9c-837c-08aae8582369",
   "metadata": {},
   "source": [
    "## NGC6535\n",
    "\n",
    "### NGC6535 Introduction"
   ]
  },
  {
   "cell_type": "markdown",
   "id": "8965ad81-ab21-4b3a-9f55-17c9b5414afa",
   "metadata": {},
   "source": [
    "### NGC6535 RGB image\n",
    "\n",
    "![NGC6535_rgb](HUGS/ngc6535/hlsp_hugs_hst_wfc3-uvis_ngc6535_multi_v1_rgb.png)"
   ]
  },
  {
   "cell_type": "markdown",
   "id": "81372248-3425-4e18-8585-feb642bb06b3",
   "metadata": {},
   "source": [
    "### NGC6535 CMD\n",
    "\n",
    "![NGC6535_CMD](HUGS/ngc6535/hlsp_hugs_hst_wfc3-uvis_ngc6535_multi_v1_cmd.png)"
   ]
  },
  {
   "cell_type": "markdown",
   "id": "edc7cc4b-ade2-4faa-9335-af77d6e9147e",
   "metadata": {},
   "source": [
    "## NGC6541\n",
    "\n",
    "### NGC6541 Introduction"
   ]
  },
  {
   "cell_type": "markdown",
   "id": "48504ab8-0ec3-4bd6-8569-0ac95418fe9b",
   "metadata": {},
   "source": [
    "### NGC6541 RGB image\n",
    "\n",
    "![NGC6541_rgb](HUGS/ngc6541/hlsp_hugs_hst_wfc3-uvis_ngc6541_multi_v1_rgb.png)"
   ]
  },
  {
   "cell_type": "markdown",
   "id": "f0db3fe5-4a5c-4a48-9fc3-19a9c6ebd9c3",
   "metadata": {},
   "source": [
    "### NGC6541 CMD\n",
    "\n",
    "![NGC6541_CMD](HUGS/ngc6541/hlsp_hugs_hst_wfc3-uvis_ngc6541_multi_v1_cmd.png)"
   ]
  },
  {
   "cell_type": "markdown",
   "id": "b60b0481-e19d-468d-be59-ee1c555bb186",
   "metadata": {},
   "source": [
    "## NGC6584\n",
    "\n",
    "### NGC6584 Introduction"
   ]
  },
  {
   "cell_type": "markdown",
   "id": "52e95ed3-60a2-421d-b5fe-f583c1b1deb6",
   "metadata": {},
   "source": [
    "### NGC6584 RGB image\n",
    "\n",
    "![NGC6584_rgb](HUGS/ngc6584/hlsp_hugs_hst_wfc3-uvis_ngc6584_multi_v1_rgb.png)"
   ]
  },
  {
   "cell_type": "markdown",
   "id": "e513e84e-62fa-4e61-8d75-ee558e9e5388",
   "metadata": {},
   "source": [
    "### NGC6584 CMD\n",
    "\n",
    "![NGC6584_CMD](HUGS/ngc6584/hlsp_hugs_hst_wfc3-uvis_ngc6584_multi_v1_cmd.png)"
   ]
  },
  {
   "cell_type": "markdown",
   "id": "810a4969-43c1-4b7d-a227-89cdee8a2736",
   "metadata": {},
   "source": [
    "## NGC6624\n",
    "\n",
    "### NGC6624 Introduction"
   ]
  },
  {
   "cell_type": "markdown",
   "id": "5065dc65-8177-43b5-9aaa-cbdfa99db258",
   "metadata": {},
   "source": [
    "### NGC6624 RGB image\n",
    "\n",
    "![NGC6624_rgb](HUGS/ngc6624/hlsp_hugs_hst_wfc3-uvis_ngc6624_multi_v1_rgb.png)"
   ]
  },
  {
   "cell_type": "markdown",
   "id": "1447755d-b56f-4d97-a2a7-d804e7fd0ebb",
   "metadata": {},
   "source": [
    "### NGC6624 CMD\n",
    "\n",
    "![NGC6624_CMD](HUGS/ngc6624/hlsp_hugs_hst_wfc3-uvis_ngc6624_multi_v1_cmd.png)"
   ]
  },
  {
   "cell_type": "markdown",
   "id": "5f161620-97c8-4fb7-8214-27bf1bdd3bec",
   "metadata": {},
   "source": [
    "## NGC6637\n",
    "\n",
    "### NGC6637 Introduction"
   ]
  },
  {
   "cell_type": "markdown",
   "id": "e1b3e5f6-bd38-4fa3-b2f6-0a18b6930a12",
   "metadata": {},
   "source": [
    "### NGC6637 RGB image\n",
    "\n",
    "![NGC6637_rgb](HUGS/ngc6637/hlsp_hugs_hst_wfc3-uvis_ngc6637_multi_v1_rgb.png)"
   ]
  },
  {
   "cell_type": "markdown",
   "id": "be781b4a-3148-4c4a-8378-9a5775e8d79f",
   "metadata": {},
   "source": [
    "### NGC6637 CMD\n",
    "\n",
    "![NGC6637_CMD](HUGS/ngc6637/hlsp_hugs_hst_wfc3-uvis_ngc6637_multi_v1_cmd.png)"
   ]
  },
  {
   "cell_type": "markdown",
   "id": "7a357196-a3dd-431b-90ba-261c7bcec4ef",
   "metadata": {},
   "source": [
    "## NGC6652\n",
    "\n",
    "### NGC6652 Introduction"
   ]
  },
  {
   "cell_type": "markdown",
   "id": "6dc06e5f-391e-47dc-8cdb-6c5e9ad6c6bd",
   "metadata": {},
   "source": [
    "### NGC6652 RGB image\n",
    "\n",
    "![NGC6652_rgb](HUGS/ngc6652/hlsp_hugs_hst_wfc3-uvis_ngc6652_multi_v1_rgb.png)"
   ]
  },
  {
   "cell_type": "markdown",
   "id": "7106e841-5259-4a14-9005-e0279b03b299",
   "metadata": {},
   "source": [
    "### NGC6652 CMD\n",
    "\n",
    "![NGC6652_CMD](HUGS/ngc6652/hlsp_hugs_hst_wfc3-uvis_ngc6652_multi_v1_cmd.png)"
   ]
  },
  {
   "cell_type": "markdown",
   "id": "30d8d5eb-1637-4592-9d15-37315c2a4ef3",
   "metadata": {},
   "source": [
    "## NGC6656\n",
    "\n",
    "### NGC6656 Introduction"
   ]
  },
  {
   "cell_type": "markdown",
   "id": "79514966-0981-428b-9d8d-6e01e2f40f86",
   "metadata": {},
   "source": [
    "### NGC6656 RGB image\n",
    "\n",
    "![NGC6656_rgb](HUGS/ngc6656/hlsp_hugs_hst_wfc3-uvis_ngc6656_multi_v1_rgb.png)"
   ]
  },
  {
   "cell_type": "markdown",
   "id": "8a9d8937-a4db-428a-8659-e7779f1038df",
   "metadata": {},
   "source": [
    "### NGC6656 CMD\n",
    "\n",
    "![NGC6656_CMD](HUGS/ngc6656/hlsp_hugs_hst_wfc3-uvis_ngc6656_multi_v1_cmd.png)"
   ]
  },
  {
   "cell_type": "markdown",
   "id": "67d1c38e-51a5-4a52-8e4c-531725893d00",
   "metadata": {},
   "source": [
    "## NGC6681\n",
    "\n",
    "### NGC6681 Introduction"
   ]
  },
  {
   "cell_type": "markdown",
   "id": "d1348a69-c00f-4e28-ab5f-039c2b717d58",
   "metadata": {},
   "source": [
    "### NGC6681 RGB image\n",
    "\n",
    "![NGC6681_rgb](HUGS/ngc6681/hlsp_hugs_hst_wfc3-uvis_ngc6681_multi_v1_rgb.png)"
   ]
  },
  {
   "cell_type": "markdown",
   "id": "74a12c23-1a2d-4ad7-be75-452a7238e5ce",
   "metadata": {},
   "source": [
    "### NGC6681 CMD\n",
    "\n",
    "![NGC6681_CMD](HUGS/ngc6681/hlsp_hugs_hst_wfc3-uvis_ngc6681_multi_v1_cmd.png)"
   ]
  },
  {
   "cell_type": "markdown",
   "id": "b6a938d8-7103-44ab-96f0-3cb7d72fe9f1",
   "metadata": {},
   "source": [
    "## NGC6715\n",
    "\n",
    "### NGC6715 Introduction"
   ]
  },
  {
   "cell_type": "markdown",
   "id": "3d7d76c7-e8ca-4a8b-aefa-3fdf8b2dbbf8",
   "metadata": {},
   "source": [
    "### NGC6715 RGB image\n",
    "\n",
    "![NGC6715_rgb](HUGS/ngc6715/hlsp_hugs_hst_wfc3-uvis_ngc6715_multi_v1_rgb.png)"
   ]
  },
  {
   "cell_type": "markdown",
   "id": "3ebe54ff-9dd8-4732-bf51-0bd764101377",
   "metadata": {},
   "source": [
    "### NGC6715 CMD\n",
    "\n",
    "![NGC6715_CMD](HUGS/ngc6715/hlsp_hugs_hst_wfc3-uvis_ngc6715_multi_v1_cmd.png)"
   ]
  },
  {
   "cell_type": "markdown",
   "id": "0c6e692b-489b-4d38-a4fc-248a345e8bad",
   "metadata": {},
   "source": [
    "## NGC6717\n",
    "\n",
    "### NGC6717 Introduction"
   ]
  },
  {
   "cell_type": "markdown",
   "id": "0798afd9-4326-49e2-a96f-8227e8383387",
   "metadata": {},
   "source": [
    "### NGC6717 RGB image\n",
    "\n",
    "![NGC6717_rgb](HUGS/ngc6717/hlsp_hugs_hst_wfc3-uvis_ngc6717_multi_v1_rgb.png)"
   ]
  },
  {
   "cell_type": "markdown",
   "id": "605df9f5-dbec-4624-beff-483a73ab94cd",
   "metadata": {},
   "source": [
    "### NGC6717 CMD\n",
    "\n",
    "![NGC6717_CMD](HUGS/ngc6717/hlsp_hugs_hst_wfc3-uvis_ngc6717_multi_v1_cmd.png)"
   ]
  },
  {
   "cell_type": "markdown",
   "id": "4e7bdd70-c550-41c6-87f7-48644b072209",
   "metadata": {},
   "source": [
    "## NGC6723\n",
    "\n",
    "### NGC6723 Introduction"
   ]
  },
  {
   "cell_type": "markdown",
   "id": "4dc12158-16c6-45f5-b28d-a5e648d66731",
   "metadata": {},
   "source": [
    "### NGC6723 RGB image\n",
    "\n",
    "![NGC6723_rgb](HUGS/ngc6723/hlsp_hugs_hst_wfc3-uvis_ngc6723_multi_v1_rgb.png)"
   ]
  },
  {
   "cell_type": "markdown",
   "id": "34bb40ca-c656-43cf-aeab-788102a3859c",
   "metadata": {},
   "source": [
    "### NGC104 CMD\n",
    "\n",
    "![NGC6723_CMD](HUGS/ngc6723/hlsp_hugs_hst_wfc3-uvis_ngc6723_multi_v1_cmd.png)"
   ]
  },
  {
   "cell_type": "markdown",
   "id": "21fb57d3-0b46-4b00-a322-1507994e6dad",
   "metadata": {},
   "source": [
    "## NGC6752\n",
    "\n",
    "### NGC6752 Introduction"
   ]
  },
  {
   "cell_type": "markdown",
   "id": "d8b38b1c-d9ce-4f3c-ae9c-0d0a6b3ee3f8",
   "metadata": {},
   "source": [
    "### NGC6752 RGB image\n",
    "\n",
    "![NGC6752_rgb](HUGS/ngc6752/hlsp_hugs_hst_wfc3-uvis_ngc6752_multi_v1_rgb.png)"
   ]
  },
  {
   "cell_type": "markdown",
   "id": "491899bd-638f-48c0-97a6-94724c42224b",
   "metadata": {},
   "source": [
    "### NGC6752 CMD\n",
    "\n",
    "![NGC6752_CMD](HUGS/ngc6752/hlsp_hugs_hst_wfc3-uvis_ngc6752_multi_v1_cmd.png)"
   ]
  },
  {
   "cell_type": "markdown",
   "id": "f19b4547-6e6c-4db6-9419-1620991f4442",
   "metadata": {},
   "source": [
    "## NGC6779\n",
    "\n",
    "### NGC6779 Introduction"
   ]
  },
  {
   "cell_type": "markdown",
   "id": "9bf278ce-9921-473a-8d6e-b827afdfbafb",
   "metadata": {},
   "source": [
    "### NGC6779 RGB image\n",
    "\n",
    "![NGC6779_rgb](HUGS/ngc6779/hlsp_hugs_hst_wfc3-uvis_ngc6779_multi_v1_rgb.png)"
   ]
  },
  {
   "cell_type": "markdown",
   "id": "0b5d680f-cfa7-4aa8-a5da-aca6aa5ff430",
   "metadata": {},
   "source": [
    "### NGC6779 CMD\n",
    "\n",
    "![NGC6779_CMD](HUGS/ngc6779/hlsp_hugs_hst_wfc3-uvis_ngc6779_multi_v1_cmd.png)"
   ]
  },
  {
   "cell_type": "markdown",
   "id": "42053826-a3fe-4ed4-991a-8336635a63fd",
   "metadata": {},
   "source": [
    "## NGC6791\n",
    "\n",
    "### NGC6791 Introduction"
   ]
  },
  {
   "cell_type": "markdown",
   "id": "60dd8180-c701-4f31-a0b5-0082f333361d",
   "metadata": {},
   "source": [
    "### NGC6791 RGB image\n",
    "\n",
    "![NGC6791_rgb](HUGS/ngc6791/hlsp_hugs_hst_wfc3-uvis_ngc6791_multi_v1_rgb.png)"
   ]
  },
  {
   "cell_type": "markdown",
   "id": "a427dc38-514f-4547-9863-44694f7097b9",
   "metadata": {},
   "source": [
    "### NGC6791 CMD\n",
    "\n",
    "![NGC6791_CMD](HUGS/ngc6791/hlsp_hugs_hst_wfc3-uvis_ngc6791_multi_v1_cmd.png)"
   ]
  },
  {
   "cell_type": "markdown",
   "id": "d6207971-db7b-4847-b33f-4d728ae5e5b4",
   "metadata": {},
   "source": [
    "## NGC6809\n",
    "\n",
    "### NGC6809 Introduction"
   ]
  },
  {
   "cell_type": "markdown",
   "id": "44fd30aa-a12b-4eeb-9c2f-e68b202b5537",
   "metadata": {},
   "source": [
    "### NGC6809 RGB image\n",
    "\n",
    "![NGC6809_rgb](HUGS/ngc6809/hlsp_hugs_hst_wfc3-uvis_ngc6809_multi_v1_rgb.png)"
   ]
  },
  {
   "cell_type": "markdown",
   "id": "6f81a69f-85b9-411f-a789-965b9b3a19df",
   "metadata": {},
   "source": [
    "### NGC6809 CMD\n",
    "\n",
    "![NGC6809_CMD](HUGS/ngc6809/hlsp_hugs_hst_wfc3-uvis_ngc6809_multi_v1_cmd.png)"
   ]
  },
  {
   "cell_type": "markdown",
   "id": "8859dacd-4db3-42d0-82c8-ede16aaf68e0",
   "metadata": {},
   "source": [
    "## NGC6838\n",
    "\n",
    "### NGC6838 Introduction"
   ]
  },
  {
   "cell_type": "markdown",
   "id": "1381e71f-0f63-4fbd-bfe6-0aae9b2939ae",
   "metadata": {},
   "source": [
    "### NGC6838 RGB image\n",
    "\n",
    "![NGC6838_rgb](HUGS/ngc6838/hlsp_hugs_hst_wfc3-uvis_ngc6838_multi_v1_rgb.png)"
   ]
  },
  {
   "cell_type": "markdown",
   "id": "8a732f01-ede3-4309-b6ce-492064888d02",
   "metadata": {},
   "source": [
    "### NGC6838 CMD\n",
    "\n",
    "![NGC6838_CMD](HUGS/ngc6838/hlsp_hugs_hst_wfc3-uvis_ngc6838_multi_v1_cmd.png)"
   ]
  },
  {
   "cell_type": "markdown",
   "id": "448c5005-887d-4ccc-a898-6388c9cb7f69",
   "metadata": {},
   "source": [
    "## NGC6934\n",
    "\n",
    "### NGC6934 Introduction"
   ]
  },
  {
   "cell_type": "markdown",
   "id": "1a5ba50f-0b8a-415e-b28d-1536610b2b56",
   "metadata": {},
   "source": [
    "### NGC6934 RGB image\n",
    "\n",
    "![NGC6934_rgb](HUGS/ngc6934/hlsp_hugs_hst_wfc3-uvis_ngc6934_multi_v1_rgb.png)"
   ]
  },
  {
   "cell_type": "markdown",
   "id": "5876d371-1297-4ad3-ab8a-4062f75e83b3",
   "metadata": {},
   "source": [
    "### NGC6934 CMD\n",
    "\n",
    "![NGC6934_CMD](HUGS/ngc6934/hlsp_hugs_hst_wfc3-uvis_ngc6934_multi_v1_cmd.png)"
   ]
  },
  {
   "cell_type": "markdown",
   "id": "dbed5e50-8a85-4410-9f5d-cb16e03cbece",
   "metadata": {},
   "source": [
    "## NGC6981\n",
    "\n",
    "### NGC6981 Introduction"
   ]
  },
  {
   "cell_type": "markdown",
   "id": "22bad872-9484-4c29-8d1d-638a9a0158a0",
   "metadata": {},
   "source": [
    "### NGC6981 RGB image\n",
    "\n",
    "![NGC6981_rgb](HUGS/ngc6981/hlsp_hugs_hst_wfc3-uvis_ngc6981_multi_v1_rgb.png)"
   ]
  },
  {
   "cell_type": "markdown",
   "id": "6f26cf97-ca60-4359-a2ac-dc39a633b6a4",
   "metadata": {},
   "source": [
    "### NGC6981 CMD\n",
    "\n",
    "![NGC6981_CMD](HUGS/ngc6981/hlsp_hugs_hst_wfc3-uvis_ngc6981_multi_v1_cmd.png)"
   ]
  },
  {
   "cell_type": "markdown",
   "id": "2639ef80-a44e-4d9a-a356-576451945e80",
   "metadata": {},
   "source": [
    "## NGC7078\n",
    "\n",
    "### NGC7078 Introduction"
   ]
  },
  {
   "cell_type": "markdown",
   "id": "57ffac35-f64d-4672-95ed-063b347e9b03",
   "metadata": {},
   "source": [
    "### NGC7078 RGB image\n",
    "\n",
    "![NGC7078_rgb](HUGS/ngc7078/hlsp_hugs_hst_wfc3-uvis_ngc7078_multi_v1_rgb.png)"
   ]
  },
  {
   "cell_type": "markdown",
   "id": "c7b09f6a-a034-487f-97b6-22e477d13665",
   "metadata": {},
   "source": [
    "### NGC7078 CMD\n",
    "\n",
    "![NGC7078_CMD](HUGS/ngc7078/hlsp_hugs_hst_wfc3-uvis_ngc7078_multi_v1_cmd.png)"
   ]
  },
  {
   "cell_type": "markdown",
   "id": "ec5dfb1e-00ec-4470-b3a4-1dba673d37ce",
   "metadata": {},
   "source": [
    "## NGC7089\n",
    "\n",
    "### NGC7089 Introduction"
   ]
  },
  {
   "cell_type": "markdown",
   "id": "5bfd7704-4aae-476b-a326-5bc50f1d3e29",
   "metadata": {},
   "source": [
    "### NGC7089 RGB image\n",
    "\n",
    "![NGC7089_rgb](HUGS/ngc7089/hlsp_hugs_hst_wfc3-uvis_ngc7089_multi_v1_rgb.png)"
   ]
  },
  {
   "cell_type": "markdown",
   "id": "f9e53d69-4698-4166-8018-a1cf4751db1f",
   "metadata": {},
   "source": [
    "### NGC7089 CMD\n",
    "\n",
    "![NGC7089_CMD](HUGS/ngc7089/hlsp_hugs_hst_wfc3-uvis_ngc7089_multi_v1_cmd.png)"
   ]
  },
  {
   "cell_type": "markdown",
   "id": "b0b3501c-0762-4430-9834-5637c4d2c82b",
   "metadata": {},
   "source": [
    "## NGC7099\n",
    "\n",
    "### NGC7099 Introduction"
   ]
  },
  {
   "cell_type": "markdown",
   "id": "8171b04d-94fe-444d-814c-4019f56a1829",
   "metadata": {},
   "source": [
    "### NGC7099 RGB image\n",
    "\n",
    "![NGC7099_rgb](HUGS/ngc7099/hlsp_hugs_hst_wfc3-uvis_ngc7099_multi_v1_rgb.png)"
   ]
  },
  {
   "cell_type": "markdown",
   "id": "c5d160fe-3e53-4099-b116-68c010609749",
   "metadata": {},
   "source": [
    "### NGC7099 CMD\n",
    "\n",
    "![NGC7099_CMD](HUGS/ngc7099/hlsp_hugs_hst_wfc3-uvis_ngc7099_multi_v1_cmd.png)"
   ]
  },
  {
   "cell_type": "markdown",
   "id": "b6b77bd4-8a5a-4f8e-a298-1d7c6ac429c1",
   "metadata": {},
   "source": [
    "## The end"
   ]
  }
 ],
 "metadata": {
  "kernelspec": {
   "display_name": "Python 3 (ipykernel)",
   "language": "python",
   "name": "python3"
  },
  "language_info": {
   "codemirror_mode": {
    "name": "ipython",
    "version": 3
   },
   "file_extension": ".py",
   "mimetype": "text/x-python",
   "name": "python",
   "nbconvert_exporter": "python",
   "pygments_lexer": "ipython3",
   "version": "3.11.5"
  }
 },
 "nbformat": 4,
 "nbformat_minor": 5
}
